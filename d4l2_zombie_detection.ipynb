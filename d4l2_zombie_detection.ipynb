{
 "nbformat": 4,
 "nbformat_minor": 0,
 "metadata": {
  "colab": {
   "name": "d4l2-zombie-detection",
   "provenance": [],
   "collapsed_sections": []
  },
  "kernelspec": {
   "name": "python3",
   "display_name": "Python 3"
  },
  "language_info": {
   "name": "python"
  },
  "accelerator": "GPU",
  "gpuClass": "standard"
 },
 "cells": [
  {
   "cell_type": "markdown",
   "metadata": {
    "id": "hrsaDfdVHzxt"
   },
   "source": [
    "# Custom Training with YOLOv5\n",
    "\n",
    "In this tutorial, we assemble a dataset and train a custom YOLOv5 model to recognize the objects in our dataset. To do so we will take the following steps:\n",
    "\n",
    "* Gather a dataset of images and label our dataset\n",
    "* Export our dataset to YOLOv5\n",
    "* Train YOLOv5 to recognize the objects in our dataset\n",
    "* Evaluate our YOLOv5 model's performance\n",
    "* Run test inference to view our model at work\n",
    "\n",
    "\n",
    "\n",
    "![](https://uploads-ssl.webflow.com/5f6bc60e665f54545a1e52a5/615627e5824c9c6195abfda9_computer-vision-cycle.png)"
   ]
  },
  {
   "cell_type": "markdown",
   "metadata": {
    "id": "yNveqeA1KXGy"
   },
   "source": [
    "# Step 1: Install Requirements"
   ]
  },
  {
   "cell_type": "code",
   "metadata": {
    "colab": {
     "base_uri": "https://localhost:8080/"
    },
    "id": "kTvDNSILZoN9",
    "outputId": "bb33f093-d431-4040-8edd-2daf88e78cfe"
   },
   "source": [
    "#clone YOLOv5 and \n",
    "!git clone https://github.com/ultralytics/yolov5  # clone repo\n",
    "%cd yolov5\n",
    "%pip install -qr requirements.txt # install dependencies\n",
    "%pip install -q roboflow\n",
    "\n",
    "import torch\n",
    "import os\n",
    "from IPython.display import Image, clear_output  # to display images\n",
    "\n",
    "print(f\"Setup complete. Using torch {torch.__version__} ({torch.cuda.get_device_properties(0).name if torch.cuda.is_available() else 'CPU'})\")"
   ],
   "execution_count": 1,
   "outputs": [
    {
     "output_type": "stream",
     "name": "stdout",
     "text": [
      "Cloning into 'yolov5'...\n",
      "remote: Enumerating objects: 12825, done.\u001B[K\n",
      "remote: Counting objects: 100% (106/106), done.\u001B[K\n",
      "remote: Compressing objects: 100% (60/60), done.\u001B[K\n",
      "remote: Total 12825 (delta 61), reused 83 (delta 46), pack-reused 12719\u001B[K\n",
      "Receiving objects: 100% (12825/12825), 12.37 MiB | 25.74 MiB/s, done.\n",
      "Resolving deltas: 100% (8818/8818), done.\n",
      "/content/yolov5\n",
      "\u001B[K     |████████████████████████████████| 596 kB 6.1 MB/s \n",
      "\u001B[K     |████████████████████████████████| 138 kB 11.5 MB/s \n",
      "\u001B[K     |████████████████████████████████| 54 kB 2.5 MB/s \n",
      "\u001B[K     |████████████████████████████████| 145 kB 68.9 MB/s \n",
      "\u001B[K     |████████████████████████████████| 178 kB 33.0 MB/s \n",
      "\u001B[K     |████████████████████████████████| 4.3 MB 42.7 MB/s \n",
      "\u001B[K     |████████████████████████████████| 67 kB 5.2 MB/s \n",
      "\u001B[K     |████████████████████████████████| 21.6 MB 1.1 MB/s \n",
      "\u001B[K     |████████████████████████████████| 1.1 MB 59.2 MB/s \n",
      "\u001B[K     |████████████████████████████████| 62 kB 1.6 MB/s \n",
      "\u001B[?25h  Building wheel for wget (setup.py) ... \u001B[?25l\u001B[?25hdone\n",
      "\u001B[31mERROR: pip's dependency resolver does not currently take into account all the packages that are installed. This behaviour is the source of the following dependency conflicts.\n",
      "google-colab 1.0.0 requires requests~=2.23.0, but you have requests 2.28.1 which is incompatible.\n",
      "datascience 0.10.6 requires folium==0.2.1, but you have folium 0.8.3 which is incompatible.\n",
      "albumentations 0.1.12 requires imgaug<0.2.7,>=0.2.5, but you have imgaug 0.2.9 which is incompatible.\n",
      "roboflow 0.2.11 requires Pillow==9.0.1, but you have pillow 7.1.2 which is incompatible.\u001B[0m\n",
      "Setup complete. Using torch 1.12.0+cu113 (Tesla P100-PCIE-16GB)\n"
     ]
    }
   ]
  },
  {
   "cell_type": "markdown",
   "metadata": {
    "id": "zP6USLgz2f0r"
   },
   "source": [
    "# Step 2: Assemble Our Dataset\n",
    "\n",
    "In order to train our custom model, we need to assemble a dataset of representative images with bounding box annotations around the objects that we want to detect. And we need our dataset to be in YOLOv5 format.\n",
    "\n",
    "In Roboflow, you can choose between two paths:\n",
    "\n",
    "* Convert an existing dataset to YOLOv5 format. Roboflow supports over [30 formats object detection formats](https://roboflow.com/formats) for conversion.\n",
    "* Upload raw images and annotate them in Roboflow with [Roboflow Annotate](https://docs.roboflow.com/annotate).\n",
    "\n",
    "# Annotate\n",
    "\n",
    "![](https://roboflow-darknet.s3.us-east-2.amazonaws.com/roboflow-annotate.gif)\n",
    "\n",
    "# Version\n",
    "\n",
    "![](https://roboflow-darknet.s3.us-east-2.amazonaws.com/robolfow-preprocessing.png)\n"
   ]
  },
  {
   "cell_type": "code",
   "metadata": {
    "colab": {
     "base_uri": "https://localhost:8080/"
    },
    "id": "R2wGvjd4Z_92",
    "outputId": "328bb297-287a-461f-d3ac-fbc58cd202a6"
   },
   "source": [
    "from roboflow import Roboflow\n",
    "rf = Roboflow(model_format=\"yolov5\", notebook=\"ultralytics\")"
   ],
   "execution_count": 2,
   "outputs": [
    {
     "output_type": "stream",
     "name": "stdout",
     "text": [
      "upload and label your dataset, and get an API KEY here: https://app.roboflow.com/?model=yolov5&ref=ultralytics\n"
     ]
    }
   ]
  },
  {
   "cell_type": "code",
   "metadata": {
    "id": "2jjT5uIHo6l5"
   },
   "source": [
    "# set up environment\n",
    "os.environ[\"DATASET_DIRECTORY\"] = \"/content/datasets\""
   ],
   "execution_count": 3,
   "outputs": []
  },
  {
   "cell_type": "code",
   "metadata": {
    "id": "FwJcaoPGF4VI",
    "colab": {
     "base_uri": "https://localhost:8080/"
    },
    "outputId": "4d435249-b1e5-408c-d9c4-d0947bd9cd5e"
   },
   "source": [
    "# after following the link above, recieve python code with these fields filled in. should be something like below:\n",
    "# rf = Roboflow(api_key=\"\")\n",
    "# project = rf.workspace(\"\").project(\"\")\n",
    "# dataset = project.version().download(\"\")"
   ],
   "execution_count": 4,
   "outputs": [
    {
     "output_type": "stream",
     "name": "stdout",
     "text": [
      "loading Roboflow workspace...\n",
      "loading Roboflow project...\n",
      "Downloading Dataset Version Zip in /content/datasets/human_detection-7 to yolov5pytorch: 100% [33133921 / 33133921] bytes\n"
     ]
    },
    {
     "output_type": "stream",
     "name": "stderr",
     "text": [
      "Extracting Dataset Version Zip to /content/datasets/human_detection-7 in yolov5pytorch:: 100%|██████████| 1480/1480 [00:01<00:00, 1044.74it/s]\n"
     ]
    }
   ]
  },
  {
   "cell_type": "markdown",
   "metadata": {
    "id": "X7yAi9hd-T4B"
   },
   "source": [
    "# Step 3: Train Our Custom YOLOv5 model\n",
    "\n",
    "Here, we are able to pass a number of arguments:\n",
    "- **img:** define input image size\n",
    "- **batch:** determine batch size\n",
    "- **epochs:** define the number of training epochs. (Note: often, 3000+ are common here!)\n",
    "- **data:** Our dataset locaiton is saved in the `dataset.location`\n",
    "- **weights:** specify a path to weights to start transfer learning from. Here we choose the generic COCO pretrained checkpoint.\n",
    "- **cache:** cache images for faster training"
   ]
  },
  {
   "cell_type": "code",
   "metadata": {
    "colab": {
     "base_uri": "https://localhost:8080/"
    },
    "id": "eaFNnxLJbq4J",
    "outputId": "41780c1c-59e6-427e-b228-1b83192615b3"
   },
   "source": [
    "!python train.py --img 832 --batch 32 --epochs 300 --data {dataset.location}/data.yaml --weights yolov5s.pt --cache"
   ],
   "execution_count": null,
   "outputs": [
    {
     "output_type": "stream",
     "name": "stdout",
     "text": [
      "\u001B[34m\u001B[1mtrain: \u001B[0mweights=yolov5s.pt, cfg=, data=/content/datasets/human_detection-7/data.yaml, hyp=data/hyps/hyp.scratch-low.yaml, epochs=300, batch_size=32, imgsz=832, rect=False, resume=False, nosave=False, noval=False, noautoanchor=False, noplots=False, evolve=None, bucket=, cache=ram, image_weights=False, device=, multi_scale=False, single_cls=False, optimizer=SGD, sync_bn=False, workers=8, project=runs/train, name=exp, exist_ok=False, quad=False, cos_lr=False, label_smoothing=0.0, patience=100, freeze=[0], save_period=-1, seed=0, local_rank=-1, entity=None, upload_dataset=False, bbox_interval=-1, artifact_alias=latest\n",
      "\u001B[34m\u001B[1mgithub: \u001B[0mup to date with https://github.com/ultralytics/yolov5 ✅\n",
      "YOLOv5 🚀 v6.1-307-g92e47b8 Python-3.7.13 torch-1.12.0+cu113 CUDA:0 (Tesla P100-PCIE-16GB, 16281MiB)\n",
      "\n",
      "\u001B[34m\u001B[1mhyperparameters: \u001B[0mlr0=0.01, lrf=0.01, momentum=0.937, weight_decay=0.0005, warmup_epochs=3.0, warmup_momentum=0.8, warmup_bias_lr=0.1, box=0.05, cls=0.5, cls_pw=1.0, obj=1.0, obj_pw=1.0, iou_t=0.2, anchor_t=4.0, fl_gamma=0.0, hsv_h=0.015, hsv_s=0.7, hsv_v=0.4, degrees=0.0, translate=0.1, scale=0.5, shear=0.0, perspective=0.0, flipud=0.0, fliplr=0.5, mosaic=1.0, mixup=0.0, copy_paste=0.0\n",
      "\u001B[34m\u001B[1mWeights & Biases: \u001B[0mrun 'pip install wandb' to automatically track and visualize YOLOv5 🚀 runs (RECOMMENDED)\n",
      "\u001B[34m\u001B[1mTensorBoard: \u001B[0mStart with 'tensorboard --logdir runs/train', view at http://localhost:6006/\n",
      "Downloading https://ultralytics.com/assets/Arial.ttf to /root/.config/Ultralytics/Arial.ttf...\n",
      "100% 755k/755k [00:00<00:00, 27.1MB/s]\n",
      "Downloading https://github.com/ultralytics/yolov5/releases/download/v6.1/yolov5s.pt to yolov5s.pt...\n",
      "100% 14.1M/14.1M [00:00<00:00, 198MB/s]\n",
      "\n",
      "Overriding model.yaml nc=80 with nc=1\n",
      "\n",
      "                 from  n    params  module                                  arguments                     \n",
      "  0                -1  1      3520  models.common.Conv                      [3, 32, 6, 2, 2]              \n",
      "  1                -1  1     18560  models.common.Conv                      [32, 64, 3, 2]                \n",
      "  2                -1  1     18816  models.common.C3                        [64, 64, 1]                   \n",
      "  3                -1  1     73984  models.common.Conv                      [64, 128, 3, 2]               \n",
      "  4                -1  2    115712  models.common.C3                        [128, 128, 2]                 \n",
      "  5                -1  1    295424  models.common.Conv                      [128, 256, 3, 2]              \n",
      "  6                -1  3    625152  models.common.C3                        [256, 256, 3]                 \n",
      "  7                -1  1   1180672  models.common.Conv                      [256, 512, 3, 2]              \n",
      "  8                -1  1   1182720  models.common.C3                        [512, 512, 1]                 \n",
      "  9                -1  1    656896  models.common.SPPF                      [512, 512, 5]                 \n",
      " 10                -1  1    131584  models.common.Conv                      [512, 256, 1, 1]              \n",
      " 11                -1  1         0  torch.nn.modules.upsampling.Upsample    [None, 2, 'nearest']          \n",
      " 12           [-1, 6]  1         0  models.common.Concat                    [1]                           \n",
      " 13                -1  1    361984  models.common.C3                        [512, 256, 1, False]          \n",
      " 14                -1  1     33024  models.common.Conv                      [256, 128, 1, 1]              \n",
      " 15                -1  1         0  torch.nn.modules.upsampling.Upsample    [None, 2, 'nearest']          \n",
      " 16           [-1, 4]  1         0  models.common.Concat                    [1]                           \n",
      " 17                -1  1     90880  models.common.C3                        [256, 128, 1, False]          \n",
      " 18                -1  1    147712  models.common.Conv                      [128, 128, 3, 2]              \n",
      " 19          [-1, 14]  1         0  models.common.Concat                    [1]                           \n",
      " 20                -1  1    296448  models.common.C3                        [256, 256, 1, False]          \n",
      " 21                -1  1    590336  models.common.Conv                      [256, 256, 3, 2]              \n",
      " 22          [-1, 10]  1         0  models.common.Concat                    [1]                           \n",
      " 23                -1  1   1182720  models.common.C3                        [512, 512, 1, False]          \n",
      " 24      [17, 20, 23]  1     16182  models.yolo.Detect                      [1, [[10, 13, 16, 30, 33, 23], [30, 61, 62, 45, 59, 119], [116, 90, 156, 198, 373, 326]], [128, 256, 512]]\n",
      "Model summary: 270 layers, 7022326 parameters, 7022326 gradients, 15.9 GFLOPs\n",
      "\n",
      "Transferred 343/349 items from yolov5s.pt\n",
      "\u001B[34m\u001B[1mAMP: \u001B[0mchecks passed ✅\n",
      "Scaled weight_decay = 0.0005\n",
      "\u001B[34m\u001B[1moptimizer:\u001B[0m SGD with parameter groups 57 weight (no decay), 60 weight, 60 bias\n",
      "\u001B[34m\u001B[1malbumentations: \u001B[0mversion 1.0.3 required by YOLOv5, but version 0.1.12 is currently installed\n",
      "\u001B[34m\u001B[1mtrain: \u001B[0mScanning '/content/datasets/human_detection-7/train/labels' images and labels...645 found, 0 missing, 0 empty, 0 corrupt: 100% 645/645 [00:00<00:00, 2213.72it/s]\n",
      "\u001B[34m\u001B[1mtrain: \u001B[0mNew cache created: /content/datasets/human_detection-7/train/labels.cache\n",
      "\u001B[34m\u001B[1mtrain: \u001B[0mCaching images (1.3GB ram): 100% 645/645 [00:04<00:00, 141.02it/s]\n",
      "\u001B[34m\u001B[1mval: \u001B[0mScanning '/content/datasets/human_detection-7/valid/labels' images and labels...58 found, 0 missing, 0 empty, 0 corrupt: 100% 58/58 [00:00<00:00, 870.92it/s]\n",
      "\u001B[34m\u001B[1mval: \u001B[0mNew cache created: /content/datasets/human_detection-7/valid/labels.cache\n",
      "\u001B[34m\u001B[1mval: \u001B[0mCaching images (0.1GB ram): 100% 58/58 [00:00<00:00, 64.49it/s]\n",
      "Plotting labels to runs/train/exp/labels.jpg... \n",
      "\n",
      "\u001B[34m\u001B[1mAutoAnchor: \u001B[0m5.26 anchors/target, 1.000 Best Possible Recall (BPR). Current anchors are a good fit to dataset ✅\n",
      "Image sizes 832 train, 832 val\n",
      "Using 2 dataloader workers\n",
      "Logging results to \u001B[1mruns/train/exp\u001B[0m\n",
      "Starting training for 300 epochs...\n",
      "\n",
      "     Epoch   gpu_mem       box       obj       cls    labels  img_size\n",
      "     0/299     10.9G    0.1058   0.04087         0        11       832: 100% 21/21 [00:19<00:00,  1.09it/s]\n",
      "               Class     Images     Labels          P          R     mAP@.5 mAP@.5:.95: 100% 1/1 [00:02<00:00,  2.65s/it]\n",
      "                 all         58        120    0.00494      0.717     0.0263    0.00613\n",
      "\n",
      "     Epoch   gpu_mem       box       obj       cls    labels  img_size\n",
      "     1/299     12.2G   0.07819   0.03141         0         5       832: 100% 21/21 [00:15<00:00,  1.36it/s]\n",
      "               Class     Images     Labels          P          R     mAP@.5 mAP@.5:.95: 100% 1/1 [00:01<00:00,  1.04s/it]\n",
      "                 all         58        120      0.145      0.292      0.158     0.0476\n",
      "\n",
      "     Epoch   gpu_mem       box       obj       cls    labels  img_size\n",
      "     2/299     12.2G   0.07695   0.02832         0        17       832: 100% 21/21 [00:15<00:00,  1.38it/s]\n",
      "               Class     Images     Labels          P          R     mAP@.5 mAP@.5:.95: 100% 1/1 [00:00<00:00,  1.10it/s]\n",
      "                 all         58        120      0.383      0.192      0.194     0.0738\n",
      "\n",
      "     Epoch   gpu_mem       box       obj       cls    labels  img_size\n",
      "     3/299     12.2G   0.07091   0.02391         0         7       832: 100% 21/21 [00:15<00:00,  1.39it/s]\n",
      "               Class     Images     Labels          P          R     mAP@.5 mAP@.5:.95: 100% 1/1 [00:00<00:00,  1.08it/s]\n",
      "                 all         58        120      0.305      0.267      0.201     0.0526\n",
      "\n",
      "     Epoch   gpu_mem       box       obj       cls    labels  img_size\n",
      "     4/299     12.2G   0.06372   0.02336         0        13       832: 100% 21/21 [00:15<00:00,  1.40it/s]\n",
      "               Class     Images     Labels          P          R     mAP@.5 mAP@.5:.95: 100% 1/1 [00:01<00:00,  1.00s/it]\n",
      "                 all         58        120      0.195      0.225      0.104     0.0348\n",
      "\n",
      "     Epoch   gpu_mem       box       obj       cls    labels  img_size\n",
      "     5/299     12.2G   0.05767    0.0227         0        17       832: 100% 21/21 [00:15<00:00,  1.39it/s]\n",
      "               Class     Images     Labels          P          R     mAP@.5 mAP@.5:.95: 100% 1/1 [00:00<00:00,  1.07it/s]\n",
      "                 all         58        120      0.128       0.15     0.0613     0.0141\n",
      "\n",
      "     Epoch   gpu_mem       box       obj       cls    labels  img_size\n",
      "     6/299     12.2G   0.05349   0.02058         0        13       832: 100% 21/21 [00:15<00:00,  1.40it/s]\n",
      "               Class     Images     Labels          P          R     mAP@.5 mAP@.5:.95: 100% 1/1 [00:00<00:00,  1.21it/s]\n",
      "                 all         58        120      0.295      0.142      0.109     0.0367\n",
      "\n",
      "     Epoch   gpu_mem       box       obj       cls    labels  img_size\n",
      "     7/299     12.2G   0.04909   0.01936         0        10       832: 100% 21/21 [00:15<00:00,  1.39it/s]\n",
      "               Class     Images     Labels          P          R     mAP@.5 mAP@.5:.95: 100% 1/1 [00:00<00:00,  1.20it/s]\n",
      "                 all         58        120      0.405      0.192      0.157     0.0528\n",
      "\n",
      "     Epoch   gpu_mem       box       obj       cls    labels  img_size\n",
      "     8/299     12.2G   0.04622   0.01744         0         8       832: 100% 21/21 [00:14<00:00,  1.40it/s]\n",
      "               Class     Images     Labels          P          R     mAP@.5 mAP@.5:.95: 100% 1/1 [00:00<00:00,  1.33it/s]\n",
      "                 all         58        120      0.182      0.308      0.134     0.0428\n",
      "\n",
      "     Epoch   gpu_mem       box       obj       cls    labels  img_size\n",
      "     9/299     12.2G   0.04369   0.01773         0        13       832: 100% 21/21 [00:15<00:00,  1.39it/s]\n",
      "               Class     Images     Labels          P          R     mAP@.5 mAP@.5:.95: 100% 1/1 [00:00<00:00,  1.12it/s]\n",
      "                 all         58        120      0.251      0.342      0.201     0.0604\n",
      "\n",
      "     Epoch   gpu_mem       box       obj       cls    labels  img_size\n",
      "    10/299     12.2G   0.04332   0.01914         0        22       832: 100% 21/21 [00:15<00:00,  1.39it/s]\n",
      "               Class     Images     Labels          P          R     mAP@.5 mAP@.5:.95: 100% 1/1 [00:00<00:00,  1.20it/s]\n",
      "                 all         58        120      0.286      0.292      0.207     0.0864\n",
      "\n",
      "     Epoch   gpu_mem       box       obj       cls    labels  img_size\n",
      "    11/299     12.2G   0.03905   0.01684         0        20       832: 100% 21/21 [00:15<00:00,  1.40it/s]\n",
      "               Class     Images     Labels          P          R     mAP@.5 mAP@.5:.95: 100% 1/1 [00:00<00:00,  1.22it/s]\n",
      "                 all         58        120      0.601      0.233      0.262     0.0948\n",
      "\n",
      "     Epoch   gpu_mem       box       obj       cls    labels  img_size\n",
      "    12/299     12.2G   0.03746   0.01658         0        18       832: 100% 21/21 [00:15<00:00,  1.39it/s]\n",
      "               Class     Images     Labels          P          R     mAP@.5 mAP@.5:.95: 100% 1/1 [00:00<00:00,  1.14it/s]\n",
      "                 all         58        120      0.379      0.375      0.268     0.0856\n",
      "\n",
      "     Epoch   gpu_mem       box       obj       cls    labels  img_size\n",
      "    13/299     12.2G    0.0394   0.01597         0         7       832: 100% 21/21 [00:15<00:00,  1.39it/s]\n",
      "               Class     Images     Labels          P          R     mAP@.5 mAP@.5:.95: 100% 1/1 [00:00<00:00,  1.23it/s]\n",
      "                 all         58        120      0.445      0.383      0.343      0.121\n",
      "\n",
      "     Epoch   gpu_mem       box       obj       cls    labels  img_size\n",
      "    14/299     12.2G   0.03707    0.0154         0        15       832: 100% 21/21 [00:15<00:00,  1.39it/s]\n",
      "               Class     Images     Labels          P          R     mAP@.5 mAP@.5:.95: 100% 1/1 [00:00<00:00,  1.25it/s]\n",
      "                 all         58        120      0.517      0.267      0.256     0.0876\n",
      "\n",
      "     Epoch   gpu_mem       box       obj       cls    labels  img_size\n",
      "    15/299     12.2G   0.03693   0.01572         0        20       832: 100% 21/21 [00:15<00:00,  1.40it/s]\n",
      "               Class     Images     Labels          P          R     mAP@.5 mAP@.5:.95: 100% 1/1 [00:00<00:00,  1.26it/s]\n",
      "                 all         58        120      0.322      0.275      0.227     0.0842\n",
      "\n",
      "     Epoch   gpu_mem       box       obj       cls    labels  img_size\n",
      "    16/299     12.2G   0.03411   0.01578         0        15       832: 100% 21/21 [00:15<00:00,  1.39it/s]\n",
      "               Class     Images     Labels          P          R     mAP@.5 mAP@.5:.95: 100% 1/1 [00:00<00:00,  1.22it/s]\n",
      "                 all         58        120      0.379      0.274      0.209     0.0908\n",
      "\n",
      "     Epoch   gpu_mem       box       obj       cls    labels  img_size\n",
      "    17/299     12.2G   0.03298   0.01332         0        10       832: 100% 21/21 [00:14<00:00,  1.40it/s]\n",
      "               Class     Images     Labels          P          R     mAP@.5 mAP@.5:.95: 100% 1/1 [00:00<00:00,  1.16it/s]\n",
      "                 all         58        120      0.558      0.337      0.329       0.14\n",
      "\n",
      "     Epoch   gpu_mem       box       obj       cls    labels  img_size\n",
      "    18/299     12.2G   0.03338    0.0135         0         7       832: 100% 21/21 [00:14<00:00,  1.41it/s]\n",
      "               Class     Images     Labels          P          R     mAP@.5 mAP@.5:.95: 100% 1/1 [00:00<00:00,  1.18it/s]\n",
      "                 all         58        120      0.468      0.308      0.286      0.105\n",
      "\n",
      "     Epoch   gpu_mem       box       obj       cls    labels  img_size\n",
      "    19/299     12.2G     0.034   0.01423         0        15       832: 100% 21/21 [00:15<00:00,  1.39it/s]\n",
      "               Class     Images     Labels          P          R     mAP@.5 mAP@.5:.95: 100% 1/1 [00:00<00:00,  1.23it/s]\n",
      "                 all         58        120      0.449      0.325      0.314      0.122\n",
      "\n",
      "     Epoch   gpu_mem       box       obj       cls    labels  img_size\n",
      "    20/299     12.2G   0.03322   0.01374         0        18       832: 100% 21/21 [00:14<00:00,  1.40it/s]\n",
      "               Class     Images     Labels          P          R     mAP@.5 mAP@.5:.95: 100% 1/1 [00:00<00:00,  1.19it/s]\n",
      "                 all         58        120      0.476      0.342       0.31      0.118\n",
      "\n",
      "     Epoch   gpu_mem       box       obj       cls    labels  img_size\n",
      "    21/299     12.2G   0.03197   0.01335         0        16       832: 100% 21/21 [00:15<00:00,  1.39it/s]\n",
      "               Class     Images     Labels          P          R     mAP@.5 mAP@.5:.95: 100% 1/1 [00:00<00:00,  1.26it/s]\n",
      "                 all         58        120      0.351      0.292       0.23     0.0859\n",
      "\n",
      "     Epoch   gpu_mem       box       obj       cls    labels  img_size\n",
      "    22/299     12.2G   0.03253    0.0133         0        14       832: 100% 21/21 [00:15<00:00,  1.39it/s]\n",
      "               Class     Images     Labels          P          R     mAP@.5 mAP@.5:.95: 100% 1/1 [00:00<00:00,  1.27it/s]\n",
      "                 all         58        120      0.486      0.197      0.185      0.074\n",
      "\n",
      "     Epoch   gpu_mem       box       obj       cls    labels  img_size\n",
      "    23/299     12.2G   0.03011   0.01322         0         6       832: 100% 21/21 [00:14<00:00,  1.40it/s]\n",
      "               Class     Images     Labels          P          R     mAP@.5 mAP@.5:.95: 100% 1/1 [00:00<00:00,  1.12it/s]\n",
      "                 all         58        120      0.318       0.35       0.24     0.0975\n",
      "\n",
      "     Epoch   gpu_mem       box       obj       cls    labels  img_size\n",
      "    24/299     12.2G   0.03086   0.01333         0        20       832: 100% 21/21 [00:15<00:00,  1.39it/s]\n",
      "               Class     Images     Labels          P          R     mAP@.5 mAP@.5:.95: 100% 1/1 [00:00<00:00,  1.30it/s]\n",
      "                 all         58        120      0.452      0.358      0.315      0.133\n",
      "\n",
      "     Epoch   gpu_mem       box       obj       cls    labels  img_size\n",
      "    25/299     12.2G   0.02926   0.01278         0        11       832: 100% 21/21 [00:14<00:00,  1.40it/s]\n",
      "               Class     Images     Labels          P          R     mAP@.5 mAP@.5:.95: 100% 1/1 [00:00<00:00,  1.24it/s]\n",
      "                 all         58        120       0.34      0.342      0.323      0.143\n",
      "\n",
      "     Epoch   gpu_mem       box       obj       cls    labels  img_size\n",
      "    26/299     12.2G   0.03001   0.01223         0         9       832: 100% 21/21 [00:14<00:00,  1.40it/s]\n",
      "               Class     Images     Labels          P          R     mAP@.5 mAP@.5:.95: 100% 1/1 [00:00<00:00,  1.29it/s]\n",
      "                 all         58        120      0.521      0.367      0.337      0.133\n",
      "\n",
      "     Epoch   gpu_mem       box       obj       cls    labels  img_size\n",
      "    27/299     12.2G   0.02953   0.01233         0         9       832: 100% 21/21 [00:15<00:00,  1.40it/s]\n",
      "               Class     Images     Labels          P          R     mAP@.5 mAP@.5:.95: 100% 1/1 [00:00<00:00,  1.27it/s]\n",
      "                 all         58        120      0.498      0.367      0.336       0.13\n",
      "\n",
      "     Epoch   gpu_mem       box       obj       cls    labels  img_size\n",
      "    28/299     12.2G   0.02879   0.01261         0        13       832: 100% 21/21 [00:15<00:00,  1.39it/s]\n",
      "               Class     Images     Labels          P          R     mAP@.5 mAP@.5:.95: 100% 1/1 [00:00<00:00,  1.28it/s]\n",
      "                 all         58        120      0.383      0.275      0.249     0.0892\n",
      "\n",
      "     Epoch   gpu_mem       box       obj       cls    labels  img_size\n",
      "    29/299     12.2G   0.02943   0.01236         0        13       832: 100% 21/21 [00:14<00:00,  1.40it/s]\n",
      "               Class     Images     Labels          P          R     mAP@.5 mAP@.5:.95: 100% 1/1 [00:00<00:00,  1.20it/s]\n",
      "                 all         58        120       0.45        0.3       0.27      0.112\n",
      "\n",
      "     Epoch   gpu_mem       box       obj       cls    labels  img_size\n",
      "    30/299     12.2G    0.0284   0.01213         0         6       832: 100% 21/21 [00:15<00:00,  1.39it/s]\n",
      "               Class     Images     Labels          P          R     mAP@.5 mAP@.5:.95: 100% 1/1 [00:00<00:00,  1.13it/s]\n",
      "                 all         58        120      0.467      0.392      0.298      0.115\n",
      "\n",
      "     Epoch   gpu_mem       box       obj       cls    labels  img_size\n",
      "    31/299     12.2G   0.02782   0.01168         0        28       832: 100% 21/21 [00:14<00:00,  1.40it/s]\n",
      "               Class     Images     Labels          P          R     mAP@.5 mAP@.5:.95: 100% 1/1 [00:00<00:00,  1.19it/s]\n",
      "                 all         58        120      0.526      0.325      0.342       0.12\n",
      "\n",
      "     Epoch   gpu_mem       box       obj       cls    labels  img_size\n",
      "    32/299     12.2G   0.02799   0.01224         0        17       832: 100% 21/21 [00:15<00:00,  1.40it/s]\n",
      "               Class     Images     Labels          P          R     mAP@.5 mAP@.5:.95: 100% 1/1 [00:00<00:00,  1.37it/s]\n",
      "                 all         58        120      0.418        0.3      0.264       0.11\n",
      "\n",
      "     Epoch   gpu_mem       box       obj       cls    labels  img_size\n",
      "    33/299     12.2G   0.02795    0.0109         0        14       832: 100% 21/21 [00:15<00:00,  1.40it/s]\n",
      "               Class     Images     Labels          P          R     mAP@.5 mAP@.5:.95: 100% 1/1 [00:00<00:00,  1.28it/s]\n",
      "                 all         58        120      0.446      0.321      0.343      0.154\n",
      "\n",
      "     Epoch   gpu_mem       box       obj       cls    labels  img_size\n",
      "    34/299     12.2G   0.02601   0.01202         0        19       832: 100% 21/21 [00:15<00:00,  1.39it/s]\n",
      "               Class     Images     Labels          P          R     mAP@.5 mAP@.5:.95: 100% 1/1 [00:00<00:00,  1.27it/s]\n",
      "                 all         58        120      0.403      0.425       0.33      0.135\n",
      "\n",
      "     Epoch   gpu_mem       box       obj       cls    labels  img_size\n",
      "    35/299     12.2G   0.02689   0.01161         0         8       832: 100% 21/21 [00:14<00:00,  1.40it/s]\n",
      "               Class     Images     Labels          P          R     mAP@.5 mAP@.5:.95: 100% 1/1 [00:00<00:00,  1.21it/s]\n",
      "                 all         58        120      0.635      0.267      0.322      0.123\n",
      "\n",
      "     Epoch   gpu_mem       box       obj       cls    labels  img_size\n",
      "    36/299     12.2G   0.02674   0.01187         0         9       832: 100% 21/21 [00:15<00:00,  1.39it/s]\n",
      "               Class     Images     Labels          P          R     mAP@.5 mAP@.5:.95: 100% 1/1 [00:00<00:00,  1.24it/s]\n",
      "                 all         58        120       0.52      0.292      0.333      0.131\n",
      "\n",
      "     Epoch   gpu_mem       box       obj       cls    labels  img_size\n",
      "    37/299     12.2G   0.02668   0.01125         0        19       832: 100% 21/21 [00:14<00:00,  1.40it/s]\n",
      "               Class     Images     Labels          P          R     mAP@.5 mAP@.5:.95: 100% 1/1 [00:00<00:00,  1.32it/s]\n",
      "                 all         58        120      0.522        0.4      0.376       0.15\n",
      "\n",
      "     Epoch   gpu_mem       box       obj       cls    labels  img_size\n",
      "    38/299     12.2G   0.02472   0.01109         0        17       832: 100% 21/21 [00:15<00:00,  1.39it/s]\n",
      "               Class     Images     Labels          P          R     mAP@.5 mAP@.5:.95: 100% 1/1 [00:00<00:00,  1.18it/s]\n",
      "                 all         58        120      0.581      0.439      0.432      0.172\n",
      "\n",
      "     Epoch   gpu_mem       box       obj       cls    labels  img_size\n",
      "    39/299     12.2G   0.02546   0.01165         0        21       832: 100% 21/21 [00:15<00:00,  1.39it/s]\n",
      "               Class     Images     Labels          P          R     mAP@.5 mAP@.5:.95: 100% 1/1 [00:00<00:00,  1.21it/s]\n",
      "                 all         58        120      0.554      0.373      0.406      0.174\n",
      "\n",
      "     Epoch   gpu_mem       box       obj       cls    labels  img_size\n",
      "    40/299     12.2G   0.02437   0.01079         0        15       832: 100% 21/21 [00:15<00:00,  1.39it/s]\n",
      "               Class     Images     Labels          P          R     mAP@.5 mAP@.5:.95: 100% 1/1 [00:00<00:00,  1.25it/s]\n",
      "                 all         58        120      0.392       0.25      0.272      0.117\n",
      "\n",
      "     Epoch   gpu_mem       box       obj       cls    labels  img_size\n",
      "    41/299     12.2G   0.02576   0.01082         0         6       832: 100% 21/21 [00:15<00:00,  1.39it/s]\n",
      "               Class     Images     Labels          P          R     mAP@.5 mAP@.5:.95: 100% 1/1 [00:00<00:00,  1.28it/s]\n",
      "                 all         58        120      0.427       0.25      0.264      0.112\n",
      "\n",
      "     Epoch   gpu_mem       box       obj       cls    labels  img_size\n",
      "    42/299     12.2G   0.02544    0.0108         0        12       832: 100% 21/21 [00:15<00:00,  1.40it/s]\n",
      "               Class     Images     Labels          P          R     mAP@.5 mAP@.5:.95: 100% 1/1 [00:00<00:00,  1.24it/s]\n",
      "                 all         58        120      0.455      0.275      0.278       0.12\n",
      "\n",
      "     Epoch   gpu_mem       box       obj       cls    labels  img_size\n",
      "    43/299     12.2G   0.02631   0.01077         0         8       832: 100% 21/21 [00:15<00:00,  1.39it/s]\n",
      "               Class     Images     Labels          P          R     mAP@.5 mAP@.5:.95: 100% 1/1 [00:00<00:00,  1.34it/s]\n",
      "                 all         58        120      0.546      0.267      0.292      0.128\n",
      "\n",
      "     Epoch   gpu_mem       box       obj       cls    labels  img_size\n",
      "    44/299     12.2G   0.02678   0.01072         0        14       832: 100% 21/21 [00:14<00:00,  1.40it/s]\n",
      "               Class     Images     Labels          P          R     mAP@.5 mAP@.5:.95: 100% 1/1 [00:00<00:00,  1.23it/s]\n",
      "                 all         58        120      0.436      0.308      0.308      0.117\n",
      "\n",
      "     Epoch   gpu_mem       box       obj       cls    labels  img_size\n",
      "    45/299     12.2G   0.02399   0.01075         0        14       832: 100% 21/21 [00:15<00:00,  1.40it/s]\n",
      "               Class     Images     Labels          P          R     mAP@.5 mAP@.5:.95: 100% 1/1 [00:00<00:00,  1.30it/s]\n",
      "                 all         58        120      0.604      0.283       0.34      0.136\n",
      "\n",
      "     Epoch   gpu_mem       box       obj       cls    labels  img_size\n",
      "    46/299     12.2G   0.02524   0.01048         0        16       832: 100% 21/21 [00:15<00:00,  1.40it/s]\n",
      "               Class     Images     Labels          P          R     mAP@.5 mAP@.5:.95: 100% 1/1 [00:00<00:00,  1.14it/s]\n",
      "                 all         58        120      0.509      0.317      0.288      0.119\n",
      "\n",
      "     Epoch   gpu_mem       box       obj       cls    labels  img_size\n",
      "    47/299     12.2G   0.02506   0.01098         0        17       832: 100% 21/21 [00:14<00:00,  1.40it/s]\n",
      "               Class     Images     Labels          P          R     mAP@.5 mAP@.5:.95: 100% 1/1 [00:00<00:00,  1.29it/s]\n",
      "                 all         58        120      0.414      0.258       0.28      0.114\n",
      "\n",
      "     Epoch   gpu_mem       box       obj       cls    labels  img_size\n",
      "    48/299     12.2G   0.02393   0.01042         0        10       832: 100% 21/21 [00:14<00:00,  1.40it/s]\n",
      "               Class     Images     Labels          P          R     mAP@.5 mAP@.5:.95: 100% 1/1 [00:00<00:00,  1.22it/s]\n",
      "                 all         58        120      0.506      0.258       0.28      0.115\n",
      "\n",
      "     Epoch   gpu_mem       box       obj       cls    labels  img_size\n",
      "    49/299     12.2G   0.02499   0.01073         0        15       832: 100% 21/21 [00:14<00:00,  1.41it/s]\n",
      "               Class     Images     Labels          P          R     mAP@.5 mAP@.5:.95: 100% 1/1 [00:00<00:00,  1.18it/s]\n",
      "                 all         58        120       0.45      0.293      0.295      0.127\n",
      "\n",
      "     Epoch   gpu_mem       box       obj       cls    labels  img_size\n",
      "    50/299     12.2G   0.02352   0.01027         0        12       832: 100% 21/21 [00:15<00:00,  1.40it/s]\n",
      "               Class     Images     Labels          P          R     mAP@.5 mAP@.5:.95: 100% 1/1 [00:00<00:00,  1.23it/s]\n",
      "                 all         58        120      0.395      0.342      0.312      0.126\n",
      "\n",
      "     Epoch   gpu_mem       box       obj       cls    labels  img_size\n",
      "    51/299     12.2G   0.02276   0.01028         0        25       832: 100% 21/21 [00:15<00:00,  1.40it/s]\n",
      "               Class     Images     Labels          P          R     mAP@.5 mAP@.5:.95: 100% 1/1 [00:00<00:00,  1.23it/s]\n",
      "                 all         58        120      0.498      0.358      0.331      0.128\n",
      "\n",
      "     Epoch   gpu_mem       box       obj       cls    labels  img_size\n",
      "    52/299     12.2G   0.02301   0.01071         0        19       832: 100% 21/21 [00:15<00:00,  1.40it/s]\n",
      "               Class     Images     Labels          P          R     mAP@.5 mAP@.5:.95: 100% 1/1 [00:00<00:00,  1.21it/s]\n",
      "                 all         58        120      0.418      0.276      0.304      0.125\n",
      "\n",
      "     Epoch   gpu_mem       box       obj       cls    labels  img_size\n",
      "    53/299     12.2G   0.02281   0.01023         0        17       832: 100% 21/21 [00:14<00:00,  1.40it/s]\n",
      "               Class     Images     Labels          P          R     mAP@.5 mAP@.5:.95: 100% 1/1 [00:00<00:00,  1.31it/s]\n",
      "                 all         58        120      0.433      0.312      0.305       0.13\n",
      "\n",
      "     Epoch   gpu_mem       box       obj       cls    labels  img_size\n",
      "    54/299     12.2G   0.02337   0.01044         0        19       832: 100% 21/21 [00:15<00:00,  1.40it/s]\n",
      "               Class     Images     Labels          P          R     mAP@.5 mAP@.5:.95: 100% 1/1 [00:00<00:00,  1.32it/s]\n",
      "                 all         58        120      0.371       0.28      0.245      0.106\n",
      "\n",
      "     Epoch   gpu_mem       box       obj       cls    labels  img_size\n",
      "    55/299     12.2G   0.02375   0.01015         0        15       832: 100% 21/21 [00:15<00:00,  1.40it/s]\n",
      "               Class     Images     Labels          P          R     mAP@.5 mAP@.5:.95: 100% 1/1 [00:00<00:00,  1.26it/s]\n",
      "                 all         58        120      0.442      0.275      0.274       0.12\n",
      "\n",
      "     Epoch   gpu_mem       box       obj       cls    labels  img_size\n",
      "    56/299     12.2G   0.02285  0.009856         0        13       832: 100% 21/21 [00:15<00:00,  1.39it/s]\n",
      "               Class     Images     Labels          P          R     mAP@.5 mAP@.5:.95: 100% 1/1 [00:00<00:00,  1.31it/s]\n",
      "                 all         58        120      0.584      0.308      0.348      0.139\n",
      "\n",
      "     Epoch   gpu_mem       box       obj       cls    labels  img_size\n",
      "    57/299     12.2G   0.02298   0.01048         0        17       832: 100% 21/21 [00:15<00:00,  1.39it/s]\n",
      "               Class     Images     Labels          P          R     mAP@.5 mAP@.5:.95: 100% 1/1 [00:00<00:00,  1.33it/s]\n",
      "                 all         58        120      0.399      0.254      0.245     0.0983\n",
      "\n",
      "     Epoch   gpu_mem       box       obj       cls    labels  img_size\n",
      "    58/299     12.2G   0.02283  0.009605         0         7       832: 100% 21/21 [00:15<00:00,  1.40it/s]\n",
      "               Class     Images     Labels          P          R     mAP@.5 mAP@.5:.95: 100% 1/1 [00:00<00:00,  1.26it/s]\n",
      "                 all         58        120      0.415      0.289      0.274      0.111\n",
      "\n",
      "     Epoch   gpu_mem       box       obj       cls    labels  img_size\n",
      "    59/299     12.2G   0.02162   0.01034         0        23       832: 100% 21/21 [00:15<00:00,  1.36it/s]\n",
      "               Class     Images     Labels          P          R     mAP@.5 mAP@.5:.95: 100% 1/1 [00:00<00:00,  1.17it/s]\n",
      "                 all         58        120      0.464      0.295      0.281      0.119\n",
      "\n",
      "     Epoch   gpu_mem       box       obj       cls    labels  img_size\n",
      "    60/299     12.2G   0.02205  0.009583         0         7       832: 100% 21/21 [00:14<00:00,  1.40it/s]\n",
      "               Class     Images     Labels          P          R     mAP@.5 mAP@.5:.95: 100% 1/1 [00:00<00:00,  1.19it/s]\n",
      "                 all         58        120      0.418      0.267      0.272      0.114\n",
      "\n",
      "     Epoch   gpu_mem       box       obj       cls    labels  img_size\n",
      "    61/299     12.2G    0.0225   0.01036         0        19       832: 100% 21/21 [00:15<00:00,  1.39it/s]\n",
      "               Class     Images     Labels          P          R     mAP@.5 mAP@.5:.95: 100% 1/1 [00:00<00:00,  1.30it/s]\n",
      "                 all         58        120      0.492      0.258      0.311      0.127\n",
      "\n",
      "     Epoch   gpu_mem       box       obj       cls    labels  img_size\n",
      "    62/299     12.2G    0.0209  0.009527         0        13       832: 100% 21/21 [00:15<00:00,  1.40it/s]\n",
      "               Class     Images     Labels          P          R     mAP@.5 mAP@.5:.95: 100% 1/1 [00:00<00:00,  1.23it/s]\n",
      "                 all         58        120        0.5      0.242      0.285       0.11\n",
      "\n",
      "     Epoch   gpu_mem       box       obj       cls    labels  img_size\n",
      "    63/299     12.2G     0.022  0.009487         0        15       832: 100% 21/21 [00:15<00:00,  1.39it/s]\n",
      "               Class     Images     Labels          P          R     mAP@.5 mAP@.5:.95: 100% 1/1 [00:00<00:00,  1.28it/s]\n",
      "                 all         58        120      0.512      0.208      0.298      0.127\n",
      "\n",
      "     Epoch   gpu_mem       box       obj       cls    labels  img_size\n",
      "    64/299     12.2G   0.02155  0.009137         0         9       832: 100% 21/21 [00:15<00:00,  1.40it/s]\n",
      "               Class     Images     Labels          P          R     mAP@.5 mAP@.5:.95: 100% 1/1 [00:00<00:00,  1.34it/s]\n",
      "                 all         58        120      0.529      0.275      0.315      0.131\n",
      "\n",
      "     Epoch   gpu_mem       box       obj       cls    labels  img_size\n",
      "    65/299     12.2G   0.02272  0.009943         0        22       832: 100% 21/21 [00:15<00:00,  1.40it/s]\n",
      "               Class     Images     Labels          P          R     mAP@.5 mAP@.5:.95: 100% 1/1 [00:00<00:00,  1.35it/s]\n",
      "                 all         58        120       0.49      0.333      0.334      0.136\n",
      "\n",
      "     Epoch   gpu_mem       box       obj       cls    labels  img_size\n",
      "    66/299     12.2G   0.02338  0.009761         0        15       832: 100% 21/21 [00:15<00:00,  1.40it/s]\n",
      "               Class     Images     Labels          P          R     mAP@.5 mAP@.5:.95: 100% 1/1 [00:00<00:00,  1.29it/s]\n",
      "                 all         58        120      0.474       0.25      0.296      0.122\n",
      "\n",
      "     Epoch   gpu_mem       box       obj       cls    labels  img_size\n",
      "    67/299     12.2G   0.02178  0.009467         0        13       832: 100% 21/21 [00:15<00:00,  1.40it/s]\n",
      "               Class     Images     Labels          P          R     mAP@.5 mAP@.5:.95: 100% 1/1 [00:00<00:00,  1.31it/s]\n",
      "                 all         58        120      0.505      0.272      0.313      0.119\n",
      "\n",
      "     Epoch   gpu_mem       box       obj       cls    labels  img_size\n",
      "    68/299     12.2G   0.01976  0.008739         0       106       832:  24% 5/21 [00:03<00:11,  1.36it/s]"
     ]
    }
   ]
  },
  {
   "cell_type": "markdown",
   "metadata": {
    "id": "AcIRLQOlA14A"
   },
   "source": [
    "# Evaluate Custom YOLOv5 Detector Performance\n",
    "Training losses and performance metrics are saved to Tensorboard and also to a logfile.\n",
    "\n",
    "If you are new to these metrics, the one you want to focus on is `mAP_0.5` - learn more about mean average precision [here](https://blog.roboflow.com/mean-average-precision/)."
   ]
  },
  {
   "cell_type": "code",
   "metadata": {
    "id": "1jS9_BxdBBHL"
   },
   "source": [
    "# Start tensorboard\n",
    "# Launch after you have started training\n",
    "# logs save in the folder \"runs\"\n",
    "%load_ext tensorboard\n",
    "%tensorboard --logdir runs"
   ],
   "execution_count": null,
   "outputs": []
  },
  {
   "cell_type": "markdown",
   "metadata": {
    "id": "jtmS7_TXFsT3"
   },
   "source": [
    "#Run Inference  With Trained Weights\n",
    "Run inference with a pretrained checkpoint on contents of `test/images` folder downloaded from Roboflow."
   ]
  },
  {
   "cell_type": "code",
   "metadata": {
    "id": "TWjjiBcic3Vz"
   },
   "source": [
    "!python detect.py --weights runs/train/exp/weights/best.pt --img 832 --conf 0.5 --source {dataset.location}/test/images "
   ],
   "execution_count": null,
   "outputs": []
  },
  {
   "cell_type": "code",
   "metadata": {
    "id": "ZbUn4_b9GCKO"
   },
   "source": [
    "#display inference on ALL test images\n",
    "\n",
    "import glob\n",
    "from IPython.display import Image, display\n",
    "\n",
    "for imageName in glob.glob('/content/yolov5/runs/detect/exp/*.jpg'): #assuming JPG\n",
    "    display(Image(filename=imageName))\n",
    "    print(\"\\n\")"
   ],
   "execution_count": null,
   "outputs": []
  },
  {
   "cell_type": "markdown",
   "metadata": {
    "id": "g8dHcni6CJYt"
   },
   "source": [
    "# Conclusion and Next Steps\n",
    "\n",
    "Congratulations! You've trained a custom YOLOv5 model to recognize your custom objects.\n",
    "\n",
    "To improve you model's performance, we recommend first interating on your datasets coverage and quality. See this guide for [model performance improvement](https://github.com/ultralytics/yolov5/wiki/Tips-for-Best-Training-Results).\n",
    "\n",
    "To deploy your model to an application, see this guide on [exporting your model to deployment destinations](https://github.com/ultralytics/yolov5/issues/251).\n",
    "\n",
    "Once your model is in production, you will want to continually iterate and improve on your dataset and model via [active learning](https://blog.roboflow.com/what-is-active-learning/)."
   ]
  },
  {
   "cell_type": "code",
   "metadata": {
    "id": "7iiObB2WCMh6"
   },
   "source": [
    "#export your model's weights for future use\n",
    "from google.colab import files\n",
    "files.download('./runs/train/exp/weights/best.pt')"
   ],
   "execution_count": null,
   "outputs": []
  },
  {
   "cell_type": "code",
   "metadata": {
    "id": "rNn-obvOGITm"
   },
   "source": [
    ""
   ],
   "execution_count": null,
   "outputs": []
  }
 ]
}